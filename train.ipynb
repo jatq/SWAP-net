{
 "cells": [
  {
   "cell_type": "code",
   "execution_count": 5,
   "metadata": {},
   "outputs": [],
   "source": [
    "from models.swapnet import SWAP\n",
    "import torch\n",
    "from utils import  get_data_azimuths\n",
    "from dataset import Seismic\n",
    "import numpy as np\n",
    "from pathlib import Path\n",
    "from torch.optim import Adam\n",
    "from torch.utils.data import DataLoader\n",
    "from torch.optim.lr_scheduler import StepLR\n",
    "\n",
    "class config:\n",
    "    label_sigma = 10\n",
    "    label_delta = 10\n",
    "    use_gpu = torch.cuda.is_available()\n",
    "    model_checkpoint_name = 'swapnet'\n",
    "    model_checkpoint_path = Path().absolute()/f'models/pretrained/{model_checkpoint_name}.pt'\n",
    "    lr = 1e-2\n",
    "    epochs = 50"
   ]
  },
  {
   "cell_type": "code",
   "execution_count": 6,
   "metadata": {},
   "outputs": [],
   "source": [
    "def train(model, trainset):\n",
    "    dataloader = DataLoader(trainset, batch_size=256, shuffle=True)\n",
    "    o = Adam(model.parameters(), lr=config.lr)\n",
    "    s = StepLR(o, step_size=1, gamma= (1e-4/config.lr)**(1/config.epochs), last_epoch=-1)\n",
    "    print('start training.')\n",
    "    model.train()\n",
    "    for epoch in range(config.epochs):\n",
    "        for x, y in dataloader:\n",
    "            if config.use_gpu:\n",
    "                x, y = x.cuda(), y.cuda()\n",
    "            loss = model.train_loss(x, y)\n",
    "            o.zero_grad()\n",
    "            loss.backward()\n",
    "            o.step()\n",
    "        s.step()\n",
    "        print(f'\\r{epoch}', end='')\n",
    "    print()\n",
    "    return model    \n"
   ]
  },
  {
   "cell_type": "code",
   "execution_count": 7,
   "metadata": {},
   "outputs": [
    {
     "name": "stdout",
     "output_type": "stream",
     "text": [
      "checkpoint exists.\n"
     ]
    }
   ],
   "source": [
    "model = SWAP(c_in = 3, c_out = 360//config.label_delta, nf=32, adaptive_size=25, ks1 = [17, 11, 5], ks2=7)\n",
    "if config.use_gpu:\n",
    "    model = model.cuda()\n",
    "\n",
    "if config.model_checkpoint_path.exists():\n",
    "        print('checkpoint exists.')\n",
    "        model.load_state_dict(torch.load(config.model_checkpoint_path))\n",
    "else:\n",
    "\n",
    "    trainset = Seismic(*get_data_azimuths('data', 'train'), signal_start=50, signal_length=200, \n",
    "                    label_sigma=config.label_sigma, \n",
    "                    label_delta=config.label_delta,\n",
    "                    is_aug_shift=True)\n",
    "    model = train(model, trainset)\n",
    "    torch.save(model.state_dict(), config.model_checkpoint_path)"
   ]
  }
 ],
 "metadata": {
  "kernelspec": {
   "display_name": "py39",
   "language": "python",
   "name": "python3"
  },
  "language_info": {
   "codemirror_mode": {
    "name": "ipython",
    "version": 3
   },
   "file_extension": ".py",
   "mimetype": "text/x-python",
   "name": "python",
   "nbconvert_exporter": "python",
   "pygments_lexer": "ipython3",
   "version": "3.9.18"
  }
 },
 "nbformat": 4,
 "nbformat_minor": 2
}
