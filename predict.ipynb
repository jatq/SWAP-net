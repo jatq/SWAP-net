{
 "cells": [
  {
   "cell_type": "code",
   "execution_count": 1,
   "metadata": {},
   "outputs": [
    {
     "data": {
      "text/plain": [
       "<All keys matched successfully>"
      ]
     },
     "execution_count": 1,
     "metadata": {},
     "output_type": "execute_result"
    }
   ],
   "source": [
    "from models.swapnet import SWAP\n",
    "import torch\n",
    "from utils import  get_data_azimuths\n",
    "from dataset import Seismic\n",
    "import numpy as np\n",
    "\n",
    "def v_y(y, label_delta=10):\n",
    "        i = np.arange(0, 360, label_delta)\n",
    "        index = np.arange(0,int(360/label_delta)).astype(np.int32)\n",
    "        max_i = i[np.argmax(y)]\n",
    "        if abs(max_i - 180) > 100:\n",
    "            i = np.arange(-180, 180, label_delta)\n",
    "            index -= int(180/label_delta)\n",
    "        return np.sum(y[index] * i) % 360\n",
    "\n",
    "def predict(model, x):\n",
    "    x = torch.from_numpy(x).unsqueeze(0)\n",
    "    with torch.no_grad():\n",
    "        model.eval()\n",
    "        pred_y = model(x, is_softmax = True).squeeze(0).numpy()\n",
    "        pred_v = v_y(pred_y, label_delta=config.label_delta)\n",
    "    return pred_v\n",
    "\n",
    "class config:\n",
    "    label_sigma = 10\n",
    "    label_delta = 10\n",
    "\n",
    "# 加载测试数据\n",
    "data, azimuths = get_data_azimuths('data', 'test')\n",
    "testset = Seismic(data, azimuths, signal_start=50, signal_length=200, \n",
    "                  label_sigma=config.label_sigma, \n",
    "                  label_delta=config.label_delta)\n",
    "\n",
    "# 加载模型\n",
    "model = SWAP(c_in = 3, c_out = 360//config.label_delta, nf=32, adaptive_size=25, ks1 = [17, 11, 5], ks2=7)\n",
    "model.load_state_dict(torch.load('models/pretrained/swapnet.pt'))"
   ]
  },
  {
   "cell_type": "code",
   "execution_count": 10,
   "metadata": {},
   "outputs": [
    {
     "name": "stdout",
     "output_type": "stream",
     "text": [
      "Predicted azimuth:241.34, True azimuth:241.28\n",
      "Predicted azimuth:212.72, True azimuth:213.94\n",
      "Predicted azimuth:142.73, True azimuth:130.73\n",
      "Predicted azimuth:144.10, True azimuth:142.48\n",
      "Predicted azimuth:278.46, True azimuth:282.21\n",
      "Predicted azimuth:315.20, True azimuth:311.95\n",
      "Predicted azimuth:144.63, True azimuth:140.14\n",
      "Predicted azimuth:250.66, True azimuth:250.32\n",
      "Predicted azimuth:311.74, True azimuth:281.43\n",
      "Predicted azimuth:331.13, True azimuth:331.79\n"
     ]
    }
   ],
   "source": [
    "for test_index in np.random.randint(len(testset), size=(10,)):\n",
    "    x, _ = testset[test_index]\n",
    "    azimuth = azimuths[test_index]\n",
    "    pred_azimuth = predict(model, x)\n",
    "    print(f\"Predicted azimuth:{pred_azimuth:.2f}, True azimuth:{azimuth:.2f}\")"
   ]
  },
  {
   "cell_type": "code",
   "execution_count": null,
   "metadata": {},
   "outputs": [],
   "source": []
  }
 ],
 "metadata": {
  "kernelspec": {
   "display_name": "py39",
   "language": "python",
   "name": "python3"
  },
  "language_info": {
   "codemirror_mode": {
    "name": "ipython",
    "version": 3
   },
   "file_extension": ".py",
   "mimetype": "text/x-python",
   "name": "python",
   "nbconvert_exporter": "python",
   "pygments_lexer": "ipython3",
   "version": "3.9.18"
  }
 },
 "nbformat": 4,
 "nbformat_minor": 2
}
