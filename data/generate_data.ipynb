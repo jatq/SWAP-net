{
 "cells": [
  {
   "cell_type": "code",
   "execution_count": 2,
   "metadata": {},
   "outputs": [],
   "source": [
    "import pandas as pd\n",
    "import h5py\n",
    "import numpy as np\n",
    "from pathlib import Path\n",
    "\n",
    "def cal_snr(data):\n",
    "    # input a 3C signal and cal the snr, the first 50 sample are noise\n",
    "    noise = data[0, :50] \n",
    "    signal = data[0, 50:100] \n",
    "    signal_energy_mean = np.sum(signal**2) \n",
    "    noise_energy_mean = np.sum(noise**2) \n",
    "    snr = 10 * np.log10(signal_energy_mean / noise_energy_mean)\n",
    "    return snr\n",
    "\n",
    "def checkdata(data):\n",
    "    return all([d.any() for d in data])\n",
    "\n",
    "raw_root = Path('E:/_datasets/STEAD/raw') # download the raw data at https://github.com/smousavi05/STEAD\n",
    "\n",
    "# row/\n",
    "#     chunk2/\n",
    "#         chunk2.csv\n",
    "#         chunk2.hdf5\n",
    "#     chunk3/\n",
    "#         chunk3.csv\n",
    "#         chunk3.hdf5\n",
    "#     chunk4/\n",
    "#         chunk4.csv\n",
    "#         chunk4.hdf5\n",
    "#     chunk5/\n",
    "#         chunk5.csv\n",
    "#         chunk5.hdf5\n",
    "#     chunk6/\n",
    "#         chunk6.csv\n",
    "#         chunk6.hdf5\n"
   ]
  },
  {
   "cell_type": "code",
   "execution_count": 3,
   "metadata": {},
   "outputs": [],
   "source": [
    "meta_path = Path('meta.csv')\n",
    "if not meta_path.exists():\n",
    "    meta = pd.DataFrame()\n",
    "    for i in [2, 3, 4, 5, 6]:\n",
    "        meta_i = pd.read_csv(raw_root/f\"chunk{i}/chunk{i}.csv\", low_memory=False)\n",
    "        # filter the data\n",
    "        meta_i = meta_i.loc[meta_i.eval(\n",
    "            \"(p_arrival_sample > 50) and \\\n",
    "            (s_arrival_sample - p_arrival_sample > 250) and \\\n",
    "            (receiver_type=='HH') and\\\n",
    "            (source_distance_deg<=1)\"), :].reset_index(drop=True)\n",
    "        selected = []\n",
    "        with h5py.File(raw_root/f'chunk{i}/chunk{i}.hdf5') as h5:\n",
    "            with h5py.File(\"data.hdf5\", 'a') as h5_new:\n",
    "                for j, (name, spt) in enumerate(zip(meta_i.trace_name, meta_i.p_arrival_sample)):\n",
    "                    d = np.array(h5.get(f'data/{name}')).T[:,int(spt)-50:int(spt)+250]\n",
    "                    # snr > 10 db\n",
    "                    if checkdata(d) and cal_snr(d) > 10:    \n",
    "                        if not h5_new.get(f'data/{name}'):\n",
    "                            h5_new.create_dataset(f'data/{name}', data=d)\n",
    "                            selected.append(j)\n",
    "        meta = pd.concat([meta, meta_i.iloc[selected, :]]).reset_index(drop=True)  \n",
    "        print(meta.shape)  \n",
    "        meta.to_csv(meta_path, index=False, sep='\\t')"
   ]
  },
  {
   "cell_type": "code",
   "execution_count": 4,
   "metadata": {},
   "outputs": [],
   "source": [
    "# split tran/test set\n",
    "meta = pd.read_csv('meta.csv', sep='\\t', low_memory=False)\n",
    "if 'is_train' not in meta.columns:\n",
    "    from sklearn.model_selection import train_test_split\n",
    "    train_index, test_index =  train_test_split(np.arange(meta.shape[0]), test_size=0.2)\n",
    "    is_train = np.zeros(meta.shape[0], dtype=bool)\n",
    "    is_train[train_index] = True\n",
    "    meta['is_train'] = is_train\n",
    "    meta.to_csv('meta.csv', index=False, sep='\\t')"
   ]
  },
  {
   "cell_type": "code",
   "execution_count": 5,
   "metadata": {},
   "outputs": [],
   "source": [
    "# calculate the azimuths\n",
    "meta = pd.read_csv('meta.csv', sep='\\t', low_memory=False)\n",
    "if 'azimuth' not in meta.columns:\n",
    "    import obspy\n",
    "    def cal_azimuth(row):\n",
    "        return obspy.geodetics.base.gps2dist_azimuth(\n",
    "            row['receiver_latitude'],\n",
    "            row['receiver_longitude'],\n",
    "            row['source_latitude'],\n",
    "            row['source_longitude'],\n",
    "            a=6378137.0, \n",
    "            f=0.0033528106647474805)[1]\n",
    "    meta['azimuth'] = meta.apply(cal_azimuth, axis=1)\n",
    "    meta.to_csv('meta.csv', index=False, sep='\\t')"
   ]
  }
 ],
 "metadata": {
  "kernelspec": {
   "display_name": "py39",
   "language": "python",
   "name": "python3"
  },
  "language_info": {
   "codemirror_mode": {
    "name": "ipython",
    "version": 3
   },
   "file_extension": ".py",
   "mimetype": "text/x-python",
   "name": "python",
   "nbconvert_exporter": "python",
   "pygments_lexer": "ipython3",
   "version": "3.9.18"
  }
 },
 "nbformat": 4,
 "nbformat_minor": 2
}
